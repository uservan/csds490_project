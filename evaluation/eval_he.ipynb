{
 "cells": [
  {
   "cell_type": "code",
   "execution_count": 1,
   "metadata": {},
   "outputs": [],
   "source": [
    "import __init__\n",
    "\n",
    "from collections import defaultdict\n",
    "from functools import partial\n",
    "from typing import Callable\n",
    "\n",
    "import numpy as np\n",
    "from cv2.typing import MatLike\n",
    "from eval import cv2_to_pil, load_data, pil_to_cv2\n",
    "from eval_with_ground import evaluate_image_pair_from_pil\n",
    "from eval_without_ground import evaluate_image\n",
    "from tqdm import tqdm\n",
    "\n",
    "from common import DataSets\n",
    "from dehaze import dehaze_and_enhance\n",
    "from HE import he_enhance, ahe_enhance, clahe_enhance\n",
    "from retinex import ssr_enhance, msr_enhance\n",
    "from retinex_exp import ssr_enhance as ssr_exp_enhance\n",
    "from retinex_exp import msr_enhance as msr_exp_enhance\n",
    "from gan import gan_method"
   ]
  },
  {
   "cell_type": "code",
   "execution_count": 2,
   "metadata": {},
   "outputs": [
    {
     "name": "stderr",
     "output_type": "stream",
     "text": [
      "100%|██████████████████████████████████████████████████████████████████████████████| 7200/7200 [04:24<00:00, 27.22it/s]\n"
     ]
    }
   ],
   "source": [
    "paired_samples = load_data()"
   ]
  },
  {
   "cell_type": "code",
   "execution_count": 3,
   "metadata": {},
   "outputs": [],
   "source": [
    "def eval(dataset: DataSets, method: Callable[[MatLike], MatLike]):\n",
    "    samples = paired_samples[dataset]\n",
    "    results = defaultdict(list)\n",
    "    for sample in tqdm(samples):\n",
    "        low_image = sample[\"low_image\"]\n",
    "        high_image = sample.get(\"high_image\")\n",
    "        # print(low_image, high_image)\n",
    "        if low_image is not None:\n",
    "            reference_img = cv2_to_pil(method(pil_to_cv2(low_image)))\n",
    "            # reference_img.show()\n",
    "            if high_image is not None:\n",
    "                scores = evaluate_image_pair_from_pil(reference_img, high_image)\n",
    "                # Compute metrics here\n",
    "            else:\n",
    "                scores = evaluate_image(reference_img, low_image)\n",
    "            for key, s in scores.items():\n",
    "                results[key].append(s)\n",
    "    return results"
   ]
  },
  {
   "cell_type": "code",
   "execution_count": 4,
   "metadata": {},
   "outputs": [
    {
     "data": {
      "text/plain": [
       "dict_keys(['lol_dataset', 'Dark_Face', 'LOL-v2'])"
      ]
     },
     "execution_count": 4,
     "metadata": {},
     "output_type": "execute_result"
    }
   ],
   "source": [
    "paired_samples.keys()"
   ]
  },
  {
   "cell_type": "markdown",
   "metadata": {},
   "source": [
    "### dahaze"
   ]
  },
  {
   "cell_type": "code",
   "execution_count": 6,
   "metadata": {},
   "outputs": [
    {
     "name": "stderr",
     "output_type": "stream",
     "text": [
      "100%|████████████████████████████████████████████████████████████████████████████████| 500/500 [01:51<00:00,  4.47it/s]\n"
     ]
    }
   ],
   "source": [
    "result = eval('lol_dataset', dehaze_and_enhance)"
   ]
  },
  {
   "cell_type": "code",
   "execution_count": 7,
   "metadata": {},
   "outputs": [
    {
     "name": "stdout",
     "output_type": "stream",
     "text": [
      "MSE: 3874.5869 ± 3862.4163\n",
      "PSNR: 14.2061 ± 4.2629\n",
      "SSIM: 0.5058 ± 0.1518\n"
     ]
    }
   ],
   "source": [
    "for key, r in result.items():\n",
    "    print(f\"{key}: {np.mean(r):.4f} ± {np.std(r):.4f}\")"
   ]
  },
  {
   "cell_type": "code",
   "execution_count": 8,
   "metadata": {},
   "outputs": [
    {
     "name": "stderr",
     "output_type": "stream",
     "text": [
      "100%|██████████████████████████████████████████████████████████████████████████████| 6000/6000 [43:29<00:00,  2.30it/s]\n"
     ]
    }
   ],
   "source": [
    "result = eval('Dark_Face', dehaze_and_enhance)"
   ]
  },
  {
   "cell_type": "code",
   "execution_count": 9,
   "metadata": {},
   "outputs": [
    {
     "name": "stdout",
     "output_type": "stream",
     "text": [
      "SIMPLE_SCORE: 0.9235 ± 6.6517\n",
      "CEI: 1.8998 ± 0.4300\n"
     ]
    }
   ],
   "source": [
    "for key, r in result.items():\n",
    "    print(f\"{key}: {np.mean(r):.4f} ± {np.std(r):.4f}\")"
   ]
  },
  {
   "cell_type": "code",
   "execution_count": 10,
   "metadata": {},
   "outputs": [
    {
     "name": "stderr",
     "output_type": "stream",
     "text": [
      "100%|████████████████████████████████████████████████████████████████████████████████| 100/100 [00:20<00:00,  4.78it/s]\n"
     ]
    }
   ],
   "source": [
    "result = eval('LOL-v2', dehaze_and_enhance)"
   ]
  },
  {
   "cell_type": "code",
   "execution_count": 11,
   "metadata": {},
   "outputs": [
    {
     "name": "stdout",
     "output_type": "stream",
     "text": [
      "MSE: 2109.1912 ± 1787.1777\n",
      "PSNR: 16.2343 ± 3.3398\n",
      "SSIM: 0.5458 ± 0.1240\n"
     ]
    }
   ],
   "source": [
    "for key, r in result.items():\n",
    "    print(f\"{key}: {np.mean(r):.4f} ± {np.std(r):.4f}\")"
   ]
  },
  {
   "cell_type": "markdown",
   "metadata": {},
   "source": [
    "### HE"
   ]
  },
  {
   "cell_type": "code",
   "execution_count": 12,
   "metadata": {},
   "outputs": [
    {
     "name": "stderr",
     "output_type": "stream",
     "text": [
      "100%|████████████████████████████████████████████████████████████████████████████████| 500/500 [01:07<00:00,  7.36it/s]\n"
     ]
    }
   ],
   "source": [
    "result = eval('lol_dataset', he_enhance)"
   ]
  },
  {
   "cell_type": "code",
   "execution_count": 13,
   "metadata": {},
   "outputs": [
    {
     "name": "stdout",
     "output_type": "stream",
     "text": [
      "MSE: 2378.8735 ± 1416.1384\n",
      "PSNR: 15.1016 ± 2.5712\n",
      "SSIM: 0.4738 ± 0.1579\n"
     ]
    }
   ],
   "source": [
    "for key, r in result.items():\n",
    "    print(f\"{key}: {np.mean(r):.4f} ± {np.std(r):.4f}\")"
   ]
  },
  {
   "cell_type": "code",
   "execution_count": 5,
   "metadata": {},
   "outputs": [
    {
     "name": "stderr",
     "output_type": "stream",
     "text": [
      "100%|████████████████████████████████████████████████████████████████████████████████| 501/501 [00:40<00:00, 12.40it/s]\n"
     ]
    }
   ],
   "source": [
    "result = eval('Dark_Face', he_enhance)"
   ]
  },
  {
   "cell_type": "code",
   "execution_count": 6,
   "metadata": {},
   "outputs": [
    {
     "name": "stdout",
     "output_type": "stream",
     "text": [
      "SIMPLE_SCORE: 86.3454 ± 0.7507\n",
      "CEI: 3.9172 ± 3.0769\n"
     ]
    }
   ],
   "source": [
    "for key, r in result.items():\n",
    "    print(f\"{key}: {np.mean(r):.4f} ± {np.std(r):.4f}\")"
   ]
  },
  {
   "cell_type": "code",
   "execution_count": 14,
   "metadata": {},
   "outputs": [
    {
     "name": "stderr",
     "output_type": "stream",
     "text": [
      "100%|████████████████████████████████████████████████████████████████████████████████| 100/100 [00:12<00:00,  7.97it/s]\n"
     ]
    }
   ],
   "source": [
    "result = eval('LOL-v2', he_enhance)"
   ]
  },
  {
   "cell_type": "code",
   "execution_count": 15,
   "metadata": {},
   "outputs": [
    {
     "name": "stdout",
     "output_type": "stream",
     "text": [
      "MSE: 3496.6123 ± 1771.7839\n",
      "PSNR: 13.2393 ± 2.2080\n",
      "SSIM: 0.4471 ± 0.1414\n"
     ]
    }
   ],
   "source": [
    "for key, r in result.items():\n",
    "    print(f\"{key}: {np.mean(r):.4f} ± {np.std(r):.4f}\")"
   ]
  },
  {
   "cell_type": "markdown",
   "metadata": {},
   "source": [
    "### AHE"
   ]
  },
  {
   "cell_type": "code",
   "execution_count": null,
   "metadata": {},
   "outputs": [
    {
     "name": "stderr",
     "output_type": "stream",
     "text": [
      "  2%|█▍                                                                              | 9/500 [01:50<1:40:02, 12.23s/it]"
     ]
    }
   ],
   "source": [
    "result = eval('lol_dataset', ahe_enhance)"
   ]
  },
  {
   "cell_type": "code",
   "execution_count": null,
   "metadata": {},
   "outputs": [],
   "source": [
    "for key, r in result.items():\n",
    "    print(f\"{key}: {np.mean(r):.4f} ± {np.std(r):.4f}\")"
   ]
  },
  {
   "cell_type": "code",
   "execution_count": null,
   "metadata": {},
   "outputs": [],
   "source": [
    "result = eval('Dark_Face', ahe_enhance)"
   ]
  },
  {
   "cell_type": "code",
   "execution_count": null,
   "metadata": {},
   "outputs": [],
   "source": [
    "for key, r in result.items():\n",
    "    print(f\"{key}: {np.mean(r):.4f} ± {np.std(r):.4f}\")"
   ]
  },
  {
   "cell_type": "code",
   "execution_count": null,
   "metadata": {},
   "outputs": [],
   "source": [
    "result = eval('LOL-v2', ahe_enhance)"
   ]
  },
  {
   "cell_type": "code",
   "execution_count": null,
   "metadata": {},
   "outputs": [],
   "source": [
    "for key, r in result.items():\n",
    "    print(f\"{key}: {np.mean(r):.4f} ± {np.std(r):.4f}\")"
   ]
  },
  {
   "cell_type": "markdown",
   "metadata": {},
   "source": [
    "### CLAHE"
   ]
  },
  {
   "cell_type": "code",
   "execution_count": 19,
   "metadata": {},
   "outputs": [
    {
     "name": "stderr",
     "output_type": "stream",
     "text": [
      "100%|████████████████████████████████████████████████████████████████████████████████| 500/500 [01:07<00:00,  7.43it/s]\n"
     ]
    }
   ],
   "source": [
    "result = eval('lol_dataset', clahe_enhance)"
   ]
  },
  {
   "cell_type": "code",
   "execution_count": 20,
   "metadata": {},
   "outputs": [
    {
     "name": "stdout",
     "output_type": "stream",
     "text": [
      "MSE: 7698.8047 ± 4759.8389\n",
      "PSNR: 10.3307 ± 3.4654\n",
      "SSIM: 0.4609 ± 0.1660\n"
     ]
    }
   ],
   "source": [
    "for key, r in result.items():\n",
    "    print(f\"{key}: {np.mean(r):.4f} ± {np.std(r):.4f}\")"
   ]
  },
  {
   "cell_type": "code",
   "execution_count": 7,
   "metadata": {},
   "outputs": [
    {
     "name": "stderr",
     "output_type": "stream",
     "text": [
      "100%|████████████████████████████████████████████████████████████████████████████████| 501/501 [00:44<00:00, 11.35it/s]\n"
     ]
    }
   ],
   "source": [
    "result = eval('Dark_Face', clahe_enhance)"
   ]
  },
  {
   "cell_type": "code",
   "execution_count": 8,
   "metadata": {},
   "outputs": [
    {
     "name": "stdout",
     "output_type": "stream",
     "text": [
      "SIMPLE_SCORE: 39.7810 ± 22.3909\n",
      "CEI: 1.4946 ± 0.2185\n"
     ]
    }
   ],
   "source": [
    "for key, r in result.items():\n",
    "    print(f\"{key}: {np.mean(r):.4f} ± {np.std(r):.4f}\")"
   ]
  },
  {
   "cell_type": "code",
   "execution_count": 21,
   "metadata": {},
   "outputs": [
    {
     "name": "stderr",
     "output_type": "stream",
     "text": [
      "100%|████████████████████████████████████████████████████████████████████████████████| 100/100 [00:12<00:00,  7.93it/s]\n"
     ]
    }
   ],
   "source": [
    "result = eval('LOL-v2', clahe_enhance)"
   ]
  },
  {
   "cell_type": "code",
   "execution_count": 22,
   "metadata": {},
   "outputs": [
    {
     "name": "stdout",
     "output_type": "stream",
     "text": [
      "MSE: 3904.5256 ± 2796.8057\n",
      "PSNR: 13.4324 ± 3.5129\n",
      "SSIM: 0.5535 ± 0.1689\n"
     ]
    }
   ],
   "source": [
    "for key, r in result.items():\n",
    "    print(f\"{key}: {np.mean(r):.4f} ± {np.std(r):.4f}\")"
   ]
  },
  {
   "cell_type": "markdown",
   "metadata": {},
   "source": [
    "### SSR"
   ]
  },
  {
   "cell_type": "code",
   "execution_count": 23,
   "metadata": {},
   "outputs": [
    {
     "name": "stderr",
     "output_type": "stream",
     "text": [
      "100%|████████████████████████████████████████████████████████████████████████████████| 500/500 [04:01<00:00,  2.07it/s]\n"
     ]
    }
   ],
   "source": [
    "result = eval('lol_dataset', ssr_enhance)"
   ]
  },
  {
   "cell_type": "code",
   "execution_count": 24,
   "metadata": {},
   "outputs": [
    {
     "name": "stdout",
     "output_type": "stream",
     "text": [
      "MSE: 3915.6243 ± 2642.7864\n",
      "PSNR: 13.1696 ± 2.9666\n",
      "SSIM: 0.5459 ± 0.1487\n"
     ]
    }
   ],
   "source": [
    "for key, r in result.items():\n",
    "    print(f\"{key}: {np.mean(r):.4f} ± {np.std(r):.4f}\")"
   ]
  },
  {
   "cell_type": "code",
   "execution_count": 9,
   "metadata": {},
   "outputs": [
    {
     "name": "stderr",
     "output_type": "stream",
     "text": [
      "100%|████████████████████████████████████████████████████████████████████████████████| 501/501 [11:00<00:00,  1.32s/it]\n"
     ]
    }
   ],
   "source": [
    "result = eval('Dark_Face', ssr_enhance)"
   ]
  },
  {
   "cell_type": "code",
   "execution_count": 10,
   "metadata": {},
   "outputs": [
    {
     "name": "stdout",
     "output_type": "stream",
     "text": [
      "SIMPLE_SCORE: 80.9831 ± 1.9362\n",
      "CEI: 2.5781 ± 1.8302\n"
     ]
    }
   ],
   "source": [
    "for key, r in result.items():\n",
    "    print(f\"{key}: {np.mean(r):.4f} ± {np.std(r):.4f}\")"
   ]
  },
  {
   "cell_type": "code",
   "execution_count": 25,
   "metadata": {},
   "outputs": [
    {
     "name": "stderr",
     "output_type": "stream",
     "text": [
      "100%|████████████████████████████████████████████████████████████████████████████████| 100/100 [00:45<00:00,  2.17it/s]\n"
     ]
    }
   ],
   "source": [
    "result = eval('LOL-v2', ssr_enhance)"
   ]
  },
  {
   "cell_type": "code",
   "execution_count": 26,
   "metadata": {},
   "outputs": [
    {
     "name": "stdout",
     "output_type": "stream",
     "text": [
      "MSE: 5633.8906 ± 2985.6328\n",
      "PSNR: 11.3565 ± 2.7842\n",
      "SSIM: 0.5028 ± 0.1446\n"
     ]
    }
   ],
   "source": [
    "for key, r in result.items():\n",
    "    print(f\"{key}: {np.mean(r):.4f} ± {np.std(r):.4f}\")"
   ]
  },
  {
   "cell_type": "markdown",
   "metadata": {},
   "source": [
    "### MSR"
   ]
  },
  {
   "cell_type": "code",
   "execution_count": 27,
   "metadata": {},
   "outputs": [
    {
     "name": "stderr",
     "output_type": "stream",
     "text": [
      "100%|████████████████████████████████████████████████████████████████████████████████| 500/500 [12:55<00:00,  1.55s/it]\n"
     ]
    }
   ],
   "source": [
    "result = eval('lol_dataset', msr_enhance)"
   ]
  },
  {
   "cell_type": "code",
   "execution_count": 28,
   "metadata": {},
   "outputs": [
    {
     "name": "stdout",
     "output_type": "stream",
     "text": [
      "MSE: 4078.6995 ± 2730.6064\n",
      "PSNR: 12.9874 ± 2.9623\n",
      "SSIM: 0.5251 ± 0.1488\n"
     ]
    }
   ],
   "source": [
    "for key, r in result.items():\n",
    "    print(f\"{key}: {np.mean(r):.4f} ± {np.std(r):.4f}\")"
   ]
  },
  {
   "cell_type": "code",
   "execution_count": 11,
   "metadata": {},
   "outputs": [
    {
     "name": "stderr",
     "output_type": "stream",
     "text": [
      "100%|████████████████████████████████████████████████████████████████████████████████| 501/501 [41:28<00:00,  4.97s/it]\n"
     ]
    }
   ],
   "source": [
    "result = eval('Dark_Face', msr_enhance)"
   ]
  },
  {
   "cell_type": "code",
   "execution_count": 12,
   "metadata": {},
   "outputs": [
    {
     "name": "stdout",
     "output_type": "stream",
     "text": [
      "SIMPLE_SCORE: 81.1224 ± 1.7313\n",
      "CEI: 2.5951 ± 1.8311\n"
     ]
    }
   ],
   "source": [
    "for key, r in result.items():\n",
    "    print(f\"{key}: {np.mean(r):.4f} ± {np.std(r):.4f}\")"
   ]
  },
  {
   "cell_type": "code",
   "execution_count": 29,
   "metadata": {},
   "outputs": [
    {
     "name": "stderr",
     "output_type": "stream",
     "text": [
      "100%|████████████████████████████████████████████████████████████████████████████████| 100/100 [02:32<00:00,  1.53s/it]\n"
     ]
    }
   ],
   "source": [
    "result = eval('LOL-v2', msr_enhance)"
   ]
  },
  {
   "cell_type": "code",
   "execution_count": 30,
   "metadata": {},
   "outputs": [
    {
     "name": "stdout",
     "output_type": "stream",
     "text": [
      "MSE: 5707.7998 ± 3010.6772\n",
      "PSNR: 11.2794 ± 2.6881\n",
      "SSIM: 0.4857 ± 0.1437\n"
     ]
    }
   ],
   "source": [
    "for key, r in result.items():\n",
    "    print(f\"{key}: {np.mean(r):.4f} ± {np.std(r):.4f}\")"
   ]
  },
  {
   "cell_type": "markdown",
   "metadata": {},
   "source": [
    "### SSR_exp"
   ]
  },
  {
   "cell_type": "code",
   "execution_count": 31,
   "metadata": {},
   "outputs": [
    {
     "name": "stderr",
     "output_type": "stream",
     "text": [
      "100%|████████████████████████████████████████████████████████████████████████████████| 500/500 [03:52<00:00,  2.15it/s]\n"
     ]
    }
   ],
   "source": [
    "result = eval('lol_dataset', ssr_exp_enhance)"
   ]
  },
  {
   "cell_type": "code",
   "execution_count": 32,
   "metadata": {},
   "outputs": [
    {
     "name": "stdout",
     "output_type": "stream",
     "text": [
      "MSE: 2469.6917 ± 1579.3563\n",
      "PSNR: 14.9746 ± 2.5514\n",
      "SSIM: 0.5178 ± 0.1576\n"
     ]
    }
   ],
   "source": [
    "for key, r in result.items():\n",
    "    print(f\"{key}: {np.mean(r):.4f} ± {np.std(r):.4f}\")"
   ]
  },
  {
   "cell_type": "code",
   "execution_count": 13,
   "metadata": {},
   "outputs": [
    {
     "name": "stderr",
     "output_type": "stream",
     "text": [
      "100%|████████████████████████████████████████████████████████████████████████████████| 501/501 [11:30<00:00,  1.38s/it]\n"
     ]
    }
   ],
   "source": [
    "result = eval('Dark_Face', ssr_exp_enhance)"
   ]
  },
  {
   "cell_type": "code",
   "execution_count": 14,
   "metadata": {},
   "outputs": [
    {
     "name": "stdout",
     "output_type": "stream",
     "text": [
      "SIMPLE_SCORE: 74.8235 ± 7.8909\n",
      "CEI: 2.0988 ± 1.6271\n"
     ]
    }
   ],
   "source": [
    "for key, r in result.items():\n",
    "    print(f\"{key}: {np.mean(r):.4f} ± {np.std(r):.4f}\")"
   ]
  },
  {
   "cell_type": "code",
   "execution_count": 33,
   "metadata": {},
   "outputs": [
    {
     "name": "stderr",
     "output_type": "stream",
     "text": [
      "100%|████████████████████████████████████████████████████████████████████████████████| 100/100 [00:49<00:00,  2.01it/s]\n"
     ]
    }
   ],
   "source": [
    "result = eval('LOL-v2', ssr_exp_enhance)"
   ]
  },
  {
   "cell_type": "code",
   "execution_count": 34,
   "metadata": {},
   "outputs": [
    {
     "name": "stdout",
     "output_type": "stream",
     "text": [
      "MSE: 2080.4441 ± 1166.1401\n",
      "PSNR: 15.5569 ± 2.2672\n",
      "SSIM: 0.5381 ± 0.1454\n"
     ]
    }
   ],
   "source": [
    "for key, r in result.items():\n",
    "    print(f\"{key}: {np.mean(r):.4f} ± {np.std(r):.4f}\")"
   ]
  },
  {
   "cell_type": "markdown",
   "metadata": {},
   "source": [
    "### MSR_exp"
   ]
  },
  {
   "cell_type": "code",
   "execution_count": 35,
   "metadata": {},
   "outputs": [
    {
     "name": "stderr",
     "output_type": "stream",
     "text": [
      "100%|████████████████████████████████████████████████████████████████████████████████| 500/500 [12:53<00:00,  1.55s/it]\n"
     ]
    }
   ],
   "source": [
    "result = eval('lol_dataset', msr_exp_enhance)"
   ]
  },
  {
   "cell_type": "code",
   "execution_count": 36,
   "metadata": {},
   "outputs": [
    {
     "name": "stdout",
     "output_type": "stream",
     "text": [
      "MSE: 2033.2766 ± 1403.8945\n",
      "PSNR: 15.8799 ± 2.6242\n",
      "SSIM: 0.5047 ± 0.1619\n"
     ]
    }
   ],
   "source": [
    "for key, r in result.items():\n",
    "    print(f\"{key}: {np.mean(r):.4f} ± {np.std(r):.4f}\")"
   ]
  },
  {
   "cell_type": "code",
   "execution_count": 15,
   "metadata": {},
   "outputs": [
    {
     "name": "stderr",
     "output_type": "stream",
     "text": [
      "100%|████████████████████████████████████████████████████████████████████████████████| 501/501 [41:48<00:00,  5.01s/it]\n"
     ]
    }
   ],
   "source": [
    "result = eval('Dark_Face', msr_exp_enhance)"
   ]
  },
  {
   "cell_type": "code",
   "execution_count": 16,
   "metadata": {},
   "outputs": [
    {
     "name": "stdout",
     "output_type": "stream",
     "text": [
      "SIMPLE_SCORE: 76.3546 ± 6.2458\n",
      "CEI: 2.1492 ± 1.6479\n"
     ]
    }
   ],
   "source": [
    "for key, r in result.items():\n",
    "    print(f\"{key}: {np.mean(r):.4f} ± {np.std(r):.4f}\")"
   ]
  },
  {
   "cell_type": "code",
   "execution_count": 37,
   "metadata": {},
   "outputs": [
    {
     "name": "stderr",
     "output_type": "stream",
     "text": [
      "100%|████████████████████████████████████████████████████████████████████████████████| 100/100 [02:34<00:00,  1.54s/it]\n"
     ]
    }
   ],
   "source": [
    "result = eval('LOL-v2', msr_exp_enhance)"
   ]
  },
  {
   "cell_type": "code",
   "execution_count": 38,
   "metadata": {},
   "outputs": [
    {
     "name": "stdout",
     "output_type": "stream",
     "text": [
      "MSE: 1792.0731 ± 1005.6102\n",
      "PSNR: 16.2654 ± 2.4641\n",
      "SSIM: 0.5276 ± 0.1525\n"
     ]
    }
   ],
   "source": [
    "for key, r in result.items():\n",
    "    print(f\"{key}: {np.mean(r):.4f} ± {np.std(r):.4f}\")"
   ]
  }
 ],
 "metadata": {
  "kernelspec": {
   "display_name": "Python 3 (ipykernel)",
   "language": "python",
   "name": "python3"
  },
  "language_info": {
   "codemirror_mode": {
    "name": "ipython",
    "version": 3
   },
   "file_extension": ".py",
   "mimetype": "text/x-python",
   "name": "python",
   "nbconvert_exporter": "python",
   "pygments_lexer": "ipython3",
   "version": "3.13.3"
  }
 },
 "nbformat": 4,
 "nbformat_minor": 4
}
