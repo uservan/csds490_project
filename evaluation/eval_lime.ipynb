{
 "cells": [
  {
   "cell_type": "code",
   "execution_count": 1,
   "metadata": {},
   "outputs": [],
   "source": [
    "import __init__\n",
    "\n",
    "from typing import Literal\n",
    "from eval import eval, load_data, cv2_to_pil, pil_to_cv2\n",
    "from dehaze import dehaze_and_enhance\n",
    "from LIME import lime_enhance\n",
    "from LIME_wo_denoise import lime_enhance as lime_enhance_wo_denoise\n",
    "from collections import defaultdict\n",
    "from tqdm import tqdm\n",
    "from eval_with_ground import evaluate_image_pair_from_pil\n",
    "from eval_without_ground import evaluate_image\n",
    "import numpy as np"
   ]
  },
  {
   "cell_type": "code",
   "execution_count": 2,
   "metadata": {},
   "outputs": [
    {
     "name": "stderr",
     "output_type": "stream",
     "text": [
      "100%|██████████████████████████████████████████████████████████████████████████████| 7200/7200 [01:30<00:00, 79.95it/s]\n"
     ]
    }
   ],
   "source": [
    "paired_samples = load_data()"
   ]
  },
  {
   "cell_type": "code",
   "execution_count": 3,
   "metadata": {},
   "outputs": [],
   "source": [
    "def eval(dataset: Literal['lol_dataset', 'Dark_Face', 'LOL-V2'], method):\n",
    "    samples = paired_samples[dataset]\n",
    "    results = defaultdict(list)\n",
    "    for sample in tqdm(samples):\n",
    "        low_image = sample[\"low_image\"]\n",
    "        high_image = sample.get(\"high_image\")\n",
    "        # print(low_image, high_image)\n",
    "        if low_image is not None:\n",
    "            reference_img = cv2_to_pil(method(pil_to_cv2(low_image)))\n",
    "            # reference_img.show()\n",
    "            if high_image is not None:\n",
    "                scores = evaluate_image_pair_from_pil(reference_img, high_image)\n",
    "                # Compute metrics here\n",
    "            else:\n",
    "                scores = evaluate_image(reference_img, low_image)\n",
    "            for key, s in scores.items():\n",
    "                    results[key].append(s)\n",
    "    return results"
   ]
  },
  {
   "cell_type": "code",
   "execution_count": 4,
   "metadata": {},
   "outputs": [
    {
     "data": {
      "text/plain": [
       "dict_keys(['lol_dataset', 'Dark_Face', 'LOL-v2'])"
      ]
     },
     "execution_count": 5,
     "metadata": {},
     "output_type": "execute_result"
    }
   ],
   "source": [
    "paired_samples.keys()"
   ]
  },
  {
   "cell_type": "markdown",
   "metadata": {},
   "source": [
    "### dahaze"
   ]
  },
  {
   "cell_type": "code",
   "execution_count": 6,
   "metadata": {},
   "outputs": [
    {
     "name": "stderr",
     "output_type": "stream",
     "text": [
      "100%|████████████████████████████████████████████████████████████████████████████████| 500/500 [00:24<00:00, 20.71it/s]\n"
     ]
    }
   ],
   "source": [
    "result = eval('lol_dataset', dehaze_and_enhance)"
   ]
  },
  {
   "cell_type": "code",
   "execution_count": 7,
   "metadata": {},
   "outputs": [
    {
     "name": "stdout",
     "output_type": "stream",
     "text": [
      "MSE: 3874.5869 ± 3862.4163\n",
      "PSNR: 14.2061 ± 4.2629\n",
      "SSIM: 0.5058 ± 0.1518\n"
     ]
    }
   ],
   "source": [
    "for key, r in result.items():\n",
    "    print(f\"{key}: {np.mean(r):.4f} ± {np.std(r):.4f}\")"
   ]
  },
  {
   "cell_type": "code",
   "execution_count": 8,
   "metadata": {},
   "outputs": [
    {
     "name": "stderr",
     "output_type": "stream",
     "text": [
      "100%|██████████████████████████████████████████████████████████████████████████████| 6000/6000 [12:00<00:00,  8.33it/s]\n"
     ]
    }
   ],
   "source": [
    "result = eval('Dark_Face', dehaze_and_enhance)"
   ]
  },
  {
   "cell_type": "code",
   "execution_count": 9,
   "metadata": {},
   "outputs": [
    {
     "name": "stdout",
     "output_type": "stream",
     "text": [
      "SIMPLE_SCORE: 0.9235 ± 6.6517\n",
      "CEI: 1.8998 ± 0.4300\n"
     ]
    }
   ],
   "source": [
    "for key, r in result.items():\n",
    "    print(f\"{key}: {np.mean(r):.4f} ± {np.std(r):.4f}\")"
   ]
  },
  {
   "cell_type": "code",
   "execution_count": 10,
   "metadata": {},
   "outputs": [
    {
     "name": "stderr",
     "output_type": "stream",
     "text": [
      "100%|████████████████████████████████████████████████████████████████████████████████| 100/100 [00:05<00:00, 17.24it/s]\n"
     ]
    }
   ],
   "source": [
    "result = eval('LOL-v2', dehaze_and_enhance)"
   ]
  },
  {
   "cell_type": "code",
   "execution_count": 11,
   "metadata": {},
   "outputs": [
    {
     "name": "stdout",
     "output_type": "stream",
     "text": [
      "MSE: 2109.1912 ± 1787.1777\n",
      "PSNR: 16.2343 ± 3.3398\n",
      "SSIM: 0.5458 ± 0.1240\n"
     ]
    }
   ],
   "source": [
    "for key, r in result.items():\n",
    "    print(f\"{key}: {np.mean(r):.4f} ± {np.std(r):.4f}\")"
   ]
  },
  {
   "cell_type": "markdown",
   "metadata": {},
   "source": [
    "### LIME"
   ]
  },
  {
   "cell_type": "code",
   "execution_count": 12,
   "metadata": {},
   "outputs": [
    {
     "name": "stderr",
     "output_type": "stream",
     "text": [
      "100%|████████████████████████████████████████████████████████████████████████████████| 500/500 [25:43<00:00,  3.09s/it]\n"
     ]
    }
   ],
   "source": [
    "result = eval('lol_dataset', lime_enhance)"
   ]
  },
  {
   "cell_type": "code",
   "execution_count": 13,
   "metadata": {},
   "outputs": [
    {
     "name": "stdout",
     "output_type": "stream",
     "text": [
      "MSE: 4335.1440 ± 3504.5000\n",
      "PSNR: 13.3940 ± 4.2088\n",
      "SSIM: 0.6945 ± 0.1535\n"
     ]
    }
   ],
   "source": [
    "for key, r in result.items():\n",
    "    print(f\"{key}: {np.mean(r):.4f} ± {np.std(r):.4f}\")"
   ]
  },
  {
   "cell_type": "code",
   "execution_count": 14,
   "metadata": {},
   "outputs": [
    {
     "name": "stderr",
     "output_type": "stream",
     "text": [
      "100%|███████████████████████████████████████████████████████████████████████████| 6000/6000 [21:16:51<00:00, 12.77s/it]\n"
     ]
    }
   ],
   "source": [
    "result = eval('Dark_Face', lime_enhance)"
   ]
  },
  {
   "cell_type": "code",
   "execution_count": 15,
   "metadata": {},
   "outputs": [
    {
     "name": "stdout",
     "output_type": "stream",
     "text": [
      "SIMPLE_SCORE: 0.0404 ± 0.7770\n",
      "CEI: 2.0173 ± 0.9346\n"
     ]
    }
   ],
   "source": [
    "for key, r in result.items():\n",
    "    print(f\"{key}: {np.mean(r):.4f} ± {np.std(r):.4f}\")"
   ]
  },
  {
   "cell_type": "code",
   "execution_count": 16,
   "metadata": {},
   "outputs": [
    {
     "name": "stderr",
     "output_type": "stream",
     "text": [
      "100%|████████████████████████████████████████████████████████████████████████████████| 100/100 [04:57<00:00,  2.98s/it]\n"
     ]
    }
   ],
   "source": [
    "result = eval('LOL-v2', lime_enhance)"
   ]
  },
  {
   "cell_type": "code",
   "execution_count": 17,
   "metadata": {},
   "outputs": [
    {
     "name": "stdout",
     "output_type": "stream",
     "text": [
      "MSE: 1899.8231 ± 1798.9749\n",
      "PSNR: 17.2719 ± 4.3203\n",
      "SSIM: 0.7790 ± 0.1190\n"
     ]
    }
   ],
   "source": [
    "for key, r in result.items():\n",
    "    print(f\"{key}: {np.mean(r):.4f} ± {np.std(r):.4f}\")"
   ]
  },
  {
   "cell_type": "markdown",
   "metadata": {},
   "source": [
    "### LIME without denoise"
   ]
  },
  {
   "cell_type": "code",
   "execution_count": 18,
   "metadata": {},
   "outputs": [
    {
     "name": "stderr",
     "output_type": "stream",
     "text": [
      "100%|████████████████████████████████████████████████████████████████████████████████| 500/500 [15:26<00:00,  1.85s/it]\n"
     ]
    }
   ],
   "source": [
    "result = eval('lol_dataset', lime_enhance_wo_denoise)"
   ]
  },
  {
   "cell_type": "code",
   "execution_count": 19,
   "metadata": {},
   "outputs": [
    {
     "name": "stdout",
     "output_type": "stream",
     "text": [
      "MSE: 4354.4702 ± 3505.7761\n",
      "PSNR: 13.3332 ± 4.1189\n",
      "SSIM: 0.5719 ± 0.1637\n"
     ]
    }
   ],
   "source": [
    "for key, r in result.items():\n",
    "    print(f\"{key}: {np.mean(r):.4f} ± {np.std(r):.4f}\")"
   ]
  },
  {
   "cell_type": "code",
   "execution_count": null,
   "metadata": {},
   "outputs": [
    {
     "name": "stderr",
     "output_type": "stream",
     "text": [
      "  3%|██▍                                                                         | 193/6000 [27:41<13:45:42,  8.53s/it]"
     ]
    }
   ],
   "source": [
    "result = eval('Dark_Face', lime_enhance_wo_denoise)"
   ]
  },
  {
   "cell_type": "code",
   "execution_count": null,
   "metadata": {},
   "outputs": [],
   "source": [
    "for key, r in result.items():\n",
    "    print(f\"{key}: {np.mean(r):.4f} ± {np.std(r):.4f}\")"
   ]
  },
  {
   "cell_type": "code",
   "execution_count": 20,
   "metadata": {},
   "outputs": [
    {
     "name": "stderr",
     "output_type": "stream",
     "text": [
      "100%|████████████████████████████████████████████████████████████████████████████████| 100/100 [02:57<00:00,  1.78s/it]\n"
     ]
    }
   ],
   "source": [
    "result = eval('LOL-v2', lime_enhance_wo_denoise)"
   ]
  },
  {
   "cell_type": "code",
   "execution_count": 21,
   "metadata": {},
   "outputs": [
    {
     "name": "stdout",
     "output_type": "stream",
     "text": [
      "MSE: 1931.9855 ± 1794.9932\n",
      "PSNR: 17.0805 ± 4.1373\n",
      "SSIM: 0.6444 ± 0.1385\n"
     ]
    }
   ],
   "source": [
    "for key, r in result.items():\n",
    "    print(f\"{key}: {np.mean(r):.4f} ± {np.std(r):.4f}\")"
   ]
  }
 ],
 "metadata": {
  "kernelspec": {
   "display_name": "Python 3 (ipykernel)",
   "language": "python",
   "name": "python3"
  },
  "language_info": {
   "codemirror_mode": {
    "name": "ipython",
    "version": 3
   },
   "file_extension": ".py",
   "mimetype": "text/x-python",
   "name": "python",
   "nbconvert_exporter": "python",
   "pygments_lexer": "ipython3",
   "version": "3.13.2"
  }
 },
 "nbformat": 4,
 "nbformat_minor": 4
}
