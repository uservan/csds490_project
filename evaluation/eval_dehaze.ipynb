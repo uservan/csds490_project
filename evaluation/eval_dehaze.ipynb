{
 "cells": [
  {
   "cell_type": "code",
   "execution_count": 1,
   "metadata": {},
   "outputs": [],
   "source": [
    "import __init__\n",
    "\n",
    "from collections import defaultdict\n",
    "from functools import partial\n",
    "from typing import Callable\n",
    "\n",
    "import numpy as np\n",
    "from cv2.typing import MatLike\n",
    "from eval import cv2_to_pil, load_data, pil_to_cv2\n",
    "from eval_with_ground import evaluate_image_pair_from_pil\n",
    "from eval_without_ground import evaluate_image\n",
    "from tqdm import tqdm\n",
    "\n",
    "from dehaze import dehaze_and_enhance"
   ]
  },
  {
   "cell_type": "code",
   "execution_count": 2,
   "metadata": {},
   "outputs": [
    {
     "name": "stderr",
     "output_type": "stream",
     "text": [
      "100%|██████████| 7200/7200 [01:26<00:00, 83.15it/s] \n"
     ]
    }
   ],
   "source": [
    "paired_samples = load_data()"
   ]
  },
  {
   "cell_type": "code",
   "execution_count": 3,
   "metadata": {},
   "outputs": [
    {
     "data": {
      "text/plain": [
       "dict_keys(['lol_dataset', 'Dark_Face', 'LOL-v2'])"
      ]
     },
     "execution_count": 3,
     "metadata": {},
     "output_type": "execute_result"
    }
   ],
   "source": [
    "paired_samples.keys()"
   ]
  },
  {
   "cell_type": "code",
   "execution_count": 4,
   "metadata": {},
   "outputs": [],
   "source": [
    "def eval(dataset, method: Callable[[MatLike], MatLike]):\n",
    "    samples = paired_samples[dataset]\n",
    "    results = defaultdict(list)\n",
    "    for sample in tqdm(samples):\n",
    "        low_image = sample[\"low_image\"]\n",
    "        high_image = sample.get(\"high_image\")\n",
    "        # print(low_image, high_image)\n",
    "        if low_image is not None:\n",
    "            reference_img = cv2_to_pil(method(pil_to_cv2(low_image)))\n",
    "            # reference_img.show()\n",
    "            if high_image is not None:\n",
    "                scores = evaluate_image_pair_from_pil(reference_img, high_image)\n",
    "                # Compute metrics here\n",
    "            else:\n",
    "                scores = evaluate_image(reference_img, low_image)\n",
    "            for key, s in scores.items():\n",
    "                results[key].append(s)\n",
    "    return results"
   ]
  },
  {
   "cell_type": "code",
   "execution_count": 5,
   "metadata": {},
   "outputs": [
    {
     "data": {
      "text/plain": [
       "dict_keys(['lol_dataset', 'Dark_Face', 'LOL-v2'])"
      ]
     },
     "execution_count": 5,
     "metadata": {},
     "output_type": "execute_result"
    }
   ],
   "source": [
    "paired_samples.keys()"
   ]
  },
  {
   "cell_type": "markdown",
   "metadata": {},
   "source": [
    "# dehaze"
   ]
  },
  {
   "cell_type": "code",
   "execution_count": 5,
   "metadata": {},
   "outputs": [
    {
     "name": "stderr",
     "output_type": "stream",
     "text": [
      "100%|██████████| 500/500 [00:19<00:00, 26.07it/s]\n"
     ]
    }
   ],
   "source": [
    "result = eval('lol_dataset', dehaze_and_enhance)"
   ]
  },
  {
   "cell_type": "code",
   "execution_count": 6,
   "metadata": {},
   "outputs": [
    {
     "name": "stdout",
     "output_type": "stream",
     "text": [
      "MSE: 3876.0293 ± 3862.0581\n",
      "PSNR: 14.2037 ± 4.2630\n",
      "SSIM: 0.5057 ± 0.1516\n"
     ]
    }
   ],
   "source": [
    "for key, r in result.items():\n",
    "    print(f\"{key}: {np.mean(r):.4f} ± {np.std(r):.4f}\")"
   ]
  },
  {
   "cell_type": "code",
   "execution_count": 6,
   "metadata": {},
   "outputs": [
    {
     "name": "stderr",
     "output_type": "stream",
     "text": [
      "100%|██████████| 501/501 [00:36<00:00, 13.62it/s]\n"
     ]
    }
   ],
   "source": [
    "result = eval('Dark_Face', dehaze_and_enhance)"
   ]
  },
  {
   "cell_type": "code",
   "execution_count": 7,
   "metadata": {},
   "outputs": [
    {
     "name": "stdout",
     "output_type": "stream",
     "text": [
      "SIMPLE_SCORE: 60.5843 ± 20.0145\n",
      "CEI: 1.9076 ± 0.4288\n"
     ]
    }
   ],
   "source": [
    "for key, r in result.items():\n",
    "    print(f\"{key}: {np.mean(r):.4f} ± {np.std(r):.4f}\")"
   ]
  },
  {
   "cell_type": "code",
   "execution_count": 9,
   "metadata": {},
   "outputs": [
    {
     "name": "stderr",
     "output_type": "stream",
     "text": [
      "100%|██████████| 100/100 [00:03<00:00, 30.36it/s]\n"
     ]
    }
   ],
   "source": [
    "result = eval('LOL-v2', dehaze_and_enhance)"
   ]
  },
  {
   "cell_type": "code",
   "execution_count": 10,
   "metadata": {},
   "outputs": [
    {
     "name": "stdout",
     "output_type": "stream",
     "text": [
      "MSE: 2107.1069 ± 1780.1074\n",
      "PSNR: 16.2354 ± 3.3389\n",
      "SSIM: 0.5460 ± 0.1234\n"
     ]
    }
   ],
   "source": [
    "for key, r in result.items():\n",
    "    print(f\"{key}: {np.mean(r):.4f} ± {np.std(r):.4f}\")"
   ]
  }
 ],
 "metadata": {
  "kernelspec": {
   "display_name": "EE228HW",
   "language": "python",
   "name": "python3"
  },
  "language_info": {
   "codemirror_mode": {
    "name": "ipython",
    "version": 3
   },
   "file_extension": ".py",
   "mimetype": "text/x-python",
   "name": "python",
   "nbconvert_exporter": "python",
   "pygments_lexer": "ipython3",
   "version": "3.11.5"
  }
 },
 "nbformat": 4,
 "nbformat_minor": 2
}
