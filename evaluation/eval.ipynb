{
 "cells": [
  {
   "cell_type": "code",
   "execution_count": 9,
   "metadata": {},
   "outputs": [],
   "source": [
    "import __init__\n",
    "\n",
    "from collections import defaultdict\n",
    "from functools import partial\n",
    "from typing import Callable, Literal\n",
    "\n",
    "import numpy as np\n",
    "from cv2.typing import MatLike\n",
    "from eval import cv2_to_pil, load_data, pil_to_cv2\n",
    "from eval_with_ground import evaluate_image_pair_from_pil\n",
    "from eval_without_ground import evaluate_image\n",
    "from tqdm import tqdm\n",
    "\n",
    "from dehaze import dehaze_and_enhance\n",
    "from gan import gan_method"
   ]
  },
  {
   "cell_type": "code",
   "execution_count": 6,
   "metadata": {},
   "outputs": [
    {
     "name": "stderr",
     "output_type": "stream",
     "text": [
      "100%|██████████| 7200/7200 [01:11<00:00, 100.95it/s]\n"
     ]
    }
   ],
   "source": [
    "paired_samples = load_data()"
   ]
  },
  {
   "cell_type": "code",
   "execution_count": null,
   "metadata": {},
   "outputs": [],
   "source": [
    "def eval(dataset: Literal[\"lol_dataset\", \"Dark_Face\", \"LOL-V2\"], method: Callable[[MatLike], MatLike]):\n",
    "    samples = paired_samples[dataset]\n",
    "    results = defaultdict(list)\n",
    "    for sample in tqdm(samples):\n",
    "        low_image = sample[\"low_image\"]\n",
    "        high_image = sample.get(\"high_image\")\n",
    "        # print(low_image, high_image)\n",
    "        if low_image is not None:\n",
    "            reference_img = cv2_to_pil(method(pil_to_cv2(low_image)))\n",
    "            # reference_img.show()\n",
    "            if high_image is not None:\n",
    "                scores = evaluate_image_pair_from_pil(reference_img, high_image)\n",
    "                # Compute metrics here\n",
    "            else:\n",
    "                scores = evaluate_image(reference_img, low_image)\n",
    "            for key, s in scores.items():\n",
    "                results[key].append(s)\n",
    "    return results"
   ]
  },
  {
   "cell_type": "code",
   "execution_count": 5,
   "metadata": {},
   "outputs": [
    {
     "data": {
      "text/plain": [
       "dict_keys(['lol_dataset', 'Dark_Face', 'LOL-v2'])"
      ]
     },
     "execution_count": 5,
     "metadata": {},
     "output_type": "execute_result"
    }
   ],
   "source": [
    "paired_samples.keys()"
   ]
  },
  {
   "cell_type": "markdown",
   "metadata": {},
   "source": [
    "### dahaze"
   ]
  },
  {
   "cell_type": "code",
   "execution_count": 6,
   "metadata": {},
   "outputs": [
    {
     "name": "stderr",
     "output_type": "stream",
     "text": [
      "100%|██████████| 500/500 [00:15<00:00, 32.61it/s]\n"
     ]
    }
   ],
   "source": [
    "result = eval('lol_dataset', dehaze_and_enhance)"
   ]
  },
  {
   "cell_type": "code",
   "execution_count": 7,
   "metadata": {},
   "outputs": [
    {
     "name": "stdout",
     "output_type": "stream",
     "text": [
      "MSE: 3876.0293 ± 3862.0581\n",
      "PSNR: 14.2037 ± 4.2630\n",
      "SSIM: 0.5057 ± 0.1516\n"
     ]
    }
   ],
   "source": [
    "for key, r in result.items():\n",
    "    print(f\"{key}: {np.mean(r):.4f} ± {np.std(r):.4f}\")"
   ]
  },
  {
   "cell_type": "code",
   "execution_count": 8,
   "metadata": {},
   "outputs": [
    {
     "name": "stderr",
     "output_type": "stream",
     "text": [
      "100%|██████████| 6000/6000 [05:32<00:00, 18.03it/s]\n"
     ]
    }
   ],
   "source": [
    "result = eval('Dark_Face', dehaze_and_enhance)"
   ]
  },
  {
   "cell_type": "code",
   "execution_count": 9,
   "metadata": {},
   "outputs": [
    {
     "name": "stdout",
     "output_type": "stream",
     "text": [
      "SIMPLE_SCORE: 0.9235 ± 6.6518\n",
      "CEI: 1.8999 ± 0.4300\n"
     ]
    }
   ],
   "source": [
    "for key, r in result.items():\n",
    "    print(f\"{key}: {np.mean(r):.4f} ± {np.std(r):.4f}\")"
   ]
  },
  {
   "cell_type": "code",
   "execution_count": 10,
   "metadata": {},
   "outputs": [
    {
     "name": "stderr",
     "output_type": "stream",
     "text": [
      "100%|██████████| 100/100 [00:02<00:00, 42.75it/s]\n"
     ]
    }
   ],
   "source": [
    "result = eval('LOL-v2', dehaze_and_enhance)"
   ]
  },
  {
   "cell_type": "code",
   "execution_count": 11,
   "metadata": {},
   "outputs": [
    {
     "name": "stdout",
     "output_type": "stream",
     "text": [
      "MSE: 2107.1069 ± 1780.1074\n",
      "PSNR: 16.2354 ± 3.3389\n",
      "SSIM: 0.5460 ± 0.1234\n"
     ]
    }
   ],
   "source": [
    "for key, r in result.items():\n",
    "    print(f\"{key}: {np.mean(r):.4f} ± {np.std(r):.4f}\")"
   ]
  },
  {
   "cell_type": "code",
   "execution_count": null,
   "metadata": {},
   "outputs": [
    {
     "name": "stderr",
     "output_type": "stream",
     "text": [
      "  0%|          | 0/500 [00:00<?, ?it/s]\n"
     ]
    },
    {
     "ename": "KeyError",
     "evalue": "'lol'",
     "output_type": "error",
     "traceback": [
      "\u001b[31m---------------------------------------------------------------------------\u001b[39m",
      "\u001b[31mKeyError\u001b[39m                                  Traceback (most recent call last)",
      "\u001b[36mCell\u001b[39m\u001b[36m \u001b[39m\u001b[32mIn[10]\u001b[39m\u001b[32m, line 1\u001b[39m\n\u001b[32m----> \u001b[39m\u001b[32m1\u001b[39m result = \u001b[38;5;28;43meval\u001b[39;49m\u001b[43m(\u001b[49m\u001b[33;43m'\u001b[39;49m\u001b[33;43mlol_dataset\u001b[39;49m\u001b[33;43m'\u001b[39;49m\u001b[43m,\u001b[49m\u001b[43m \u001b[49m\u001b[43mpartial\u001b[49m\u001b[43m(\u001b[49m\u001b[43mgan_method\u001b[49m\u001b[43m,\u001b[49m\u001b[43m \u001b[49m\u001b[33;43m'\u001b[39;49m\u001b[33;43mlol\u001b[39;49m\u001b[33;43m'\u001b[39;49m\u001b[43m)\u001b[49m\u001b[43m)\u001b[49m\n",
      "\u001b[36mCell\u001b[39m\u001b[36m \u001b[39m\u001b[32mIn[8]\u001b[39m\u001b[32m, line 9\u001b[39m, in \u001b[36meval\u001b[39m\u001b[34m(dataset, method)\u001b[39m\n\u001b[32m      7\u001b[39m \u001b[38;5;66;03m# print(low_image, high_image)\u001b[39;00m\n\u001b[32m      8\u001b[39m \u001b[38;5;28;01mif\u001b[39;00m low_image \u001b[38;5;129;01mis\u001b[39;00m \u001b[38;5;129;01mnot\u001b[39;00m \u001b[38;5;28;01mNone\u001b[39;00m:\n\u001b[32m----> \u001b[39m\u001b[32m9\u001b[39m     reference_img = cv2_to_pil(\u001b[43mmethod\u001b[49m\u001b[43m(\u001b[49m\u001b[43mpil_to_cv2\u001b[49m\u001b[43m(\u001b[49m\u001b[43mlow_image\u001b[49m\u001b[43m)\u001b[49m\u001b[43m)\u001b[49m)\n\u001b[32m     10\u001b[39m     \u001b[38;5;66;03m# reference_img.show()\u001b[39;00m\n\u001b[32m     11\u001b[39m     \u001b[38;5;28;01mif\u001b[39;00m high_image \u001b[38;5;129;01mis\u001b[39;00m \u001b[38;5;129;01mnot\u001b[39;00m \u001b[38;5;28;01mNone\u001b[39;00m:\n",
      "\u001b[36mFile \u001b[39m\u001b[32m~/csds490_project/evaluation/gan.py:58\u001b[39m, in \u001b[36mgan_method\u001b[39m\u001b[34m(dataset, img)\u001b[39m\n\u001b[32m     45\u001b[39m \u001b[38;5;28;01mdef\u001b[39;00m\u001b[38;5;250m \u001b[39m\u001b[34mgan_method\u001b[39m(dataset: DataSets, img: MatLike) -> MatLike:\n\u001b[32m     46\u001b[39m     \u001b[38;5;66;03m# match dataset:\u001b[39;00m\n\u001b[32m     47\u001b[39m     \u001b[38;5;66;03m#     case \"lol_dataset\":\u001b[39;00m\n\u001b[32m   (...)\u001b[39m\u001b[32m     56\u001b[39m \n\u001b[32m     57\u001b[39m     \u001b[38;5;66;03m# TODO maybe not spin up and down generator everytime?\u001b[39;00m\n\u001b[32m---> \u001b[39m\u001b[32m58\u001b[39m     generator = \u001b[43mGENERATOR_MAPPING\u001b[49m\u001b[43m[\u001b[49m\u001b[43mdataset\u001b[49m\u001b[43m]\u001b[49m\n\u001b[32m     59\u001b[39m     generator.load_state_dict(\n\u001b[32m     60\u001b[39m         torch.load(WEIGHTS_PATH / dataset / GENERATOR_WEIGHTS)\n\u001b[32m     61\u001b[39m     )\n\u001b[32m     62\u001b[39m     \u001b[38;5;28;01mreturn\u001b[39;00m generator(img)\n",
      "\u001b[31mKeyError\u001b[39m: 'lol'"
     ]
    }
   ],
   "source": [
    "dataset = 'lol_dataset'\n",
    "result = eval(dataset, partial(gan_method, dataset))"
   ]
  },
  {
   "cell_type": "code",
   "execution_count": null,
   "metadata": {},
   "outputs": [],
   "source": [
    "for key, r in result.items():\n",
    "    print(f\"{key}: {np.mean(r):.4f} ± {np.std(r):.4f}\")"
   ]
  }
 ],
 "metadata": {
  "kernelspec": {
   "display_name": ".venv",
   "language": "python",
   "name": "python3"
  },
  "language_info": {
   "codemirror_mode": {
    "name": "ipython",
    "version": 3
   },
   "file_extension": ".py",
   "mimetype": "text/x-python",
   "name": "python",
   "nbconvert_exporter": "python",
   "pygments_lexer": "ipython3",
   "version": "3.12.3"
  }
 },
 "nbformat": 4,
 "nbformat_minor": 2
}
